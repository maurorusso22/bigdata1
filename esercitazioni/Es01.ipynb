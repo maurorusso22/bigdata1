{
  "nbformat": 4,
  "nbformat_minor": 0,
  "metadata": {
    "colab": {
      "provenance": []
    },
    "kernelspec": {
      "name": "python3",
      "display_name": "Python 3"
    },
    "language_info": {
      "name": "python"
    }
  },
  "cells": [
    {
      "cell_type": "markdown",
      "source": [
        "ESERCITAZIONE 1\n",
        "\n",
        "Calcolare media varianza e deviazione standard e verificare che il risultato sia coerente con quello del modulo statistics"
      ],
      "metadata": {
        "id": "y8e4jd1lMbdD"
      }
    },
    {
      "cell_type": "code",
      "execution_count": null,
      "metadata": {
        "id": "SHvgbKX-MUwb"
      },
      "outputs": [],
      "source": []
    },
    {
      "cell_type": "markdown",
      "source": [
        "4.9 (Degrees to Radians) Implement a radians function that returns the radian equiv- alent of a degree. Use the following formula:\n",
        "        rad = degrees * pi/180\n",
        "Use this function to print a chart showing the radian equivalent of all degrees ranging from 1° to 180°. Use two digits of precision for the results. Print the outputs in a neat tabular format."
      ],
      "metadata": {
        "id": "xJ6gp4F5MXSw"
      }
    },
    {
      "cell_type": "code",
      "source": [],
      "metadata": {
        "id": "iFPcVWwSMhRB"
      },
      "execution_count": null,
      "outputs": []
    },
    {
      "cell_type": "markdown",
      "source": [
        "4.10 (Play the Multiplication Game) Write a script that lets the user play a multiplica- tion game. To begin, the game randomly selects two numbers between 1 and 10. It displays the selected numbers and asks the player for the product of both numbers. If the player answers correctly, they are asked if they want to play again. This cycle is contin- ued until the player makes a mistake or stops the game."
      ],
      "metadata": {
        "id": "ebFt18GzMh4M"
      }
    },
    {
      "cell_type": "code",
      "source": [],
      "metadata": {
        "id": "0f73TVNdMj6K"
      },
      "execution_count": null,
      "outputs": []
    },
    {
      "cell_type": "markdown",
      "source": [
        "4.13 (Arbitrary Argument List) Calculate the average of a series of integers that are passed to the function average, which receives an arbitrary argument list. Test your func- tion with several calls, each with a different number of arguments."
      ],
      "metadata": {
        "id": "OEyIUZcaMktV"
      }
    },
    {
      "cell_type": "code",
      "source": [],
      "metadata": {
        "id": "5YcNMIfYMm8j"
      },
      "execution_count": null,
      "outputs": []
    },
    {
      "cell_type": "markdown",
      "source": [
        "5.3 (Fill in the Missing Code) Replace the \\*s in the following list comprehension and map function call, such that given a list of heights in inches, the code maps the list to a list of tuples containing the original height values and their corresponding values in meters. For example, if one element in the original list contains the height 69 inches, the corre- sponding element in the new list will contain the tuple (69, 1.7526), representing both the height in inches and the height in meters. There are 0.0254 meters per inch.\n",
        "\n",
        "       [*** for x in [69, 77, 54]]\n",
        "       list(map(lambda ***, [69, 77, 54]))"
      ],
      "metadata": {
        "id": "MLRBYs2NMn3H"
      }
    },
    {
      "cell_type": "code",
      "source": [],
      "metadata": {
        "id": "ENiuk4PNM6DX"
      },
      "execution_count": null,
      "outputs": []
    },
    {
      "cell_type": "markdown",
      "source": [
        "5.7 (Duplicate Elimination) In organizations, a list of email addresses is often com- piled for marketing purposes. However, duplicate email addresses need to be removed from this list. Write a function that receives a list and returns a list containing only unique values. Test your function with a list of email addresses."
      ],
      "metadata": {
        "id": "17FGzRkwM8rB"
      }
    },
    {
      "cell_type": "code",
      "source": [],
      "metadata": {
        "id": "LeAI307lM9VS"
      },
      "execution_count": null,
      "outputs": []
    },
    {
      "cell_type": "markdown",
      "source": [
        "5.16 (Sorting User IDs) For each new user, a system generates a user ID consisting of a randomly chosen letter and two random numbers. Write a script that randomly generates alistcontaining8000userIDsusingrandomlettersfromtherange\"a\"through\"f\" and numbers from the range 1 to 4. Subsequently, remove all duplicate entries from the list and sort this list in descending order."
      ],
      "metadata": {
        "id": "jJdubmZ9M-Ib"
      }
    },
    {
      "cell_type": "code",
      "source": [],
      "metadata": {
        "id": "atTKBPGANB5i"
      },
      "execution_count": null,
      "outputs": []
    },
    {
      "cell_type": "markdown",
      "source": [
        "5.19 (Finding the People with a Specified Last Name) Create a list of tuples containing first and last names. Use filter to locate the tuples containing the last name Jones. En- sure that several tuples in your list have that last name."
      ],
      "metadata": {
        "id": "o25GoaDKNEJJ"
      }
    },
    {
      "cell_type": "code",
      "source": [],
      "metadata": {
        "id": "CfSCobGANE4d"
      },
      "execution_count": null,
      "outputs": []
    },
    {
      "cell_type": "markdown",
      "source": [
        "5.24 (Card Shuffling and Dealing) In Exercises 5.24 through 5.26, you’ll use lists of tu- ples in scripts that simulate card shuffling and dealing. Each tuple represents one card in the deck and contains a face (e.g., 'Ace', 'Deuce', 'Three', ..., 'Jack', 'Queen', 'King') and a suit (e.g., 'Hearts', 'Diamonds', 'Clubs', 'Spades'). Create an initialize_deck function to initialize the deck of card tuples with 'Ace' through 'King' of each suit, as in\n",
        "\n",
        "deck = [('Ace', 'Hearts'), ..., ('King', 'Hearts'), ('Ace', 'Diamonds'), ..., ('King', 'Diamonds'), ('Ace', 'Clubs'), ..., ('King', 'Clubs'), ('Ace', 'Spades'), ..., ('King', 'Spades')]\n",
        "\n",
        "Before returning the list, use the random module’s shuffle function to randomly order the list elements."
      ],
      "metadata": {
        "id": "D4JOJhLANIJQ"
      }
    },
    {
      "cell_type": "code",
      "source": [],
      "metadata": {
        "id": "A4LQu0S1NS3_"
      },
      "execution_count": null,
      "outputs": []
    }
  ]
}